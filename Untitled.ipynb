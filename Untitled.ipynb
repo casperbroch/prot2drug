{
 "cells": [
  {
   "cell_type": "code",
   "execution_count": 1,
   "id": "416100ca-e566-48a8-b43a-19813d34e0ab",
   "metadata": {},
   "outputs": [],
   "source": [
    "import requests"
   ]
  },
  {
   "cell_type": "code",
   "execution_count": 2,
   "id": "7ca73e85-ff4b-49e8-a282-21fb33dbf10c",
   "metadata": {},
   "outputs": [],
   "source": [
    "response = requests.get(\"https://ftp.ebi.ac.uk/pub/databases/pdb/derived_data/pdb_seqres.txt\")"
   ]
  },
  {
   "cell_type": "code",
   "execution_count": 3,
   "id": "aa215251-3c8f-43c8-aa56-3e9f2eca24d5",
   "metadata": {},
   "outputs": [],
   "source": [
    "response = requests.get(\"https://ftp.ebi.ac.uk/pub/databases/pdb/derived_data/pdb_seqres.txt\")\n",
    "if response.status_code != 200:\n",
    "    raise Exception(f\"There was a problem (status code {response.status_code}). Please try again.\")\n",
    "else:\n",
    "    with open(\"data/pdb_seqres.txt\", \"w\") as f:\n",
    "        f.write(response.text)"
   ]
  },
  {
   "cell_type": "code",
   "execution_count": null,
   "id": "ca12ff6a-56cf-4f40-b281-7939197fcb44",
   "metadata": {},
   "outputs": [],
   "source": []
  }
 ],
 "metadata": {
  "kernelspec": {
   "display_name": "Python 3 (ipykernel)",
   "language": "python",
   "name": "python3"
  },
  "language_info": {
   "codemirror_mode": {
    "name": "ipython",
    "version": 3
   },
   "file_extension": ".py",
   "mimetype": "text/x-python",
   "name": "python",
   "nbconvert_exporter": "python",
   "pygments_lexer": "ipython3",
   "version": "3.10.16"
  }
 },
 "nbformat": 4,
 "nbformat_minor": 5
}
