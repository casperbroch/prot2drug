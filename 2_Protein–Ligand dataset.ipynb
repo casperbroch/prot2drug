{
 "cells": [
  {
   "cell_type": "code",
   "execution_count": 123,
   "id": "9ee64893-167d-497f-ba41-75a33e868f2b",
   "metadata": {},
   "outputs": [],
   "source": [
    "import numpy as np "
   ]
  },
  {
   "cell_type": "markdown",
   "id": "d021b363-8cdc-4c56-abe0-a991bd1da377",
   "metadata": {},
   "source": [
    " "
   ]
  },
  {
   "cell_type": "markdown",
   "id": "137d7a98-822a-433e-9b11-6a05d55d902e",
   "metadata": {},
   "source": [
    "### 1A. Query data directly from PDB "
   ]
  },
  {
   "cell_type": "markdown",
   "id": "6a30512d-f8b3-4c62-9d82-b34d610ecac7",
   "metadata": {},
   "source": [
    "**Search query**"
   ]
  },
  {
   "cell_type": "markdown",
   "id": "885370e1-f493-48b6-8ec6-0142e519e41b",
   "metadata": {},
   "source": [
    "Getting all PDB IDs where the polymer type is \"Protein\" and where a bound ligand exists. "
   ]
  },
  {
   "cell_type": "code",
   "execution_count": 1,
   "id": "8e7d8b74-1319-403f-a013-59e5918ddc85",
   "metadata": {},
   "outputs": [],
   "source": [
    "from rcsbapi.search import search_attributes as attrs\n",
    "# To see possible attributes, do attrs.__dict__ "
   ]
  },
  {
   "cell_type": "code",
   "execution_count": 137,
   "id": "a4ca1d38-d6c5-4ab3-8797-0cfb24a3525f",
   "metadata": {},
   "outputs": [
    {
     "name": "stdout",
     "output_type": "stream",
     "text": [
      "14866 protein–ligand complexes\n"
     ]
    }
   ],
   "source": [
    "query = (\n",
    "    (attrs.entity_poly.rcsb_entity_polymer_type == \"Protein\") & \n",
    "    (attrs.rcsb_ligand_neighbors.ligand_entity_id.exists()) & \n",
    "    (attrs.rcsb_binding_affinity.value.exists()) \n",
    "    # (attrs.rcsb_nonpolymer_entity.pdbx_number_of_molecules > 0) &\n",
    "    # (attrs.rcsb_binding_affinity.value >= 0) & \n",
    "    # (attrs.rcsb_binding_affinity.value < ...) & \n",
    "    # (attrs.rcsb_nonpolymer_entity.formula_weight > 150) \n",
    ")\n",
    "pdb_ids = list(query())\n",
    "print(len(pdb_ids), \"protein–ligand complexes\")"
   ]
  },
  {
   "cell_type": "markdown",
   "id": "038aa1fc-2418-48e7-a06b-6f2dc4eb043e",
   "metadata": {},
   "source": [
    " "
   ]
  },
  {
   "cell_type": "markdown",
   "id": "d512365f-6d74-43ff-8138-94a2f55a652b",
   "metadata": {},
   "source": [
    "**Data query**"
   ]
  },
  {
   "cell_type": "markdown",
   "id": "51766f09-0185-46b2-9346-785ab458c681",
   "metadata": {},
   "source": [
    "Getting the data for these PDB entries. For now, let's only get the Ligand IDs for now.  "
   ]
  },
  {
   "cell_type": "code",
   "execution_count": 84,
   "id": "3e9b1785-446c-48df-a0a1-3b8e4b2184da",
   "metadata": {},
   "outputs": [],
   "source": [
    "from rcsbapi.data import DataQuery"
   ]
  },
  {
   "cell_type": "code",
   "execution_count": 139,
   "id": "b1e04b38-6142-43ba-ac2a-8d5a32d57610",
   "metadata": {},
   "outputs": [
    {
     "data": {
      "text/plain": [
       "['10GS', '11GS']"
      ]
     },
     "execution_count": 139,
     "metadata": {},
     "output_type": "execute_result"
    }
   ],
   "source": [
    "test_pdb_ids = pdb_ids[:2]\n",
    "test_pdb_ids"
   ]
  },
  {
   "cell_type": "code",
   "execution_count": 138,
   "id": "6cbbd86a-88fe-4dcd-8757-288614009065",
   "metadata": {},
   "outputs": [
    {
     "name": "stdout",
     "output_type": "stream",
     "text": [
      "2 protein–ligand complexes\n"
     ]
    }
   ],
   "source": [
    "query = DataQuery(\n",
    "    input_type=\"entries\",\n",
    "    input_ids=test_pdb_ids,\n",
    "    return_data_list=[\n",
    "        \"rcsb_id\",\n",
    "        \"nonpolymer_entities.nonpolymer_comp.chem_comp.id\"\n",
    "    ]\n",
    ")\n",
    "protein_ligand_data = query.exec()\n",
    "print(len(protein_ligand_data[\"data\"][\"entries\"]), \"protein–ligand complexes\")"
   ]
  },
  {
   "cell_type": "code",
   "execution_count": 118,
   "id": "9e3d1a0a-6e58-41e5-aa95-0c78dc18692f",
   "metadata": {},
   "outputs": [
    {
     "data": {
      "text/plain": [
       "{'rcsb_id': '10GS', 'nonpolymer_entities': [{'nonpolymer_comp': {'chem_comp': {'id': 'VWW'}}}, {'nonpolymer_comp': {'chem_comp': {'id': 'MES'}}}]}"
      ]
     },
     "execution_count": 118,
     "metadata": {},
     "output_type": "execute_result"
    }
   ],
   "source": [
    "# Example protein–ligand complex record: \n",
    "protein_ligand_data[\"data\"][\"entries\"][0]"
   ]
  },
  {
   "cell_type": "code",
   "execution_count": 125,
   "id": "9bfc9cb1-bcef-4838-bddf-5bae1e83fe7b",
   "metadata": {},
   "outputs": [
    {
     "data": {
      "text/plain": [
       "2.5"
      ]
     },
     "execution_count": 125,
     "metadata": {},
     "output_type": "execute_result"
    }
   ],
   "source": [
    "# Average number of ligands per protein–ligand complex: \n",
    "np.mean([\n",
    "    len(record[\"nonpolymer_entities\"]) \n",
    "    for record in protein_ligand_complexes[\"data\"][\"entries\"]\n",
    "])\n",
    "\n",
    "# If most protein–ligand complexes have more than 1 ligand, that could be a problem \n",
    "# as I don't know if our approach can handle this "
   ]
  },
  {
   "cell_type": "markdown",
   "id": "f7ddfa4f-50fb-4f7f-a47b-cca43cd30526",
   "metadata": {},
   "source": [
    "Now that we have the protein–ligand complexes, we still need to fetch data on those ligands, including their SMILES strings: "
   ]
  },
  {
   "cell_type": "code",
   "execution_count": 149,
   "id": "25aa90f3-6b68-40a1-bbd1-122f2b9a8bd6",
   "metadata": {},
   "outputs": [],
   "source": [
    "# List of unique ligand IDs from above protein–ligand data: \n",
    "ligand_ids = list(set(\n",
    "    ligand[\"nonpolymer_comp\"][\"chem_comp\"][\"id\"] \n",
    "    for protein_ligand in protein_ligand_data[\"data\"][\"entries\"] \n",
    "    for ligand in protein_ligand[\"nonpolymer_entities\"]\n",
    "))"
   ]
  },
  {
   "cell_type": "code",
   "execution_count": 150,
   "id": "1b935de9-f342-4900-912c-4fcf13c2b8d4",
   "metadata": {},
   "outputs": [
    {
     "data": {
      "text/plain": [
       "['VWW', 'GSH']"
      ]
     },
     "execution_count": 150,
     "metadata": {},
     "output_type": "execute_result"
    }
   ],
   "source": [
    "test_ligand_ids = ligand_ids[:2]\n",
    "test_ligand_ids"
   ]
  },
  {
   "cell_type": "code",
   "execution_count": 135,
   "id": "b9258800-5399-47ac-a543-64c37bb51283",
   "metadata": {},
   "outputs": [
    {
     "name": "stdout",
     "output_type": "stream",
     "text": [
      "2 ligands\n"
     ]
    }
   ],
   "source": [
    "# For attributes, e.g. go to https://www.rcsb.org/ligand/VWW, click \"Data API\", which opens a GraphiQL UI, then run it. \n",
    "\n",
    "query = DataQuery(\n",
    "    input_type=\"chem_comps\",\n",
    "    input_ids=test_ligand_ids,\n",
    "    return_data_list=[\n",
    "        \"chem_comp.id\",\n",
    "        \"chem_comp.type\",\n",
    "        \"chem_comp.name\",\n",
    "        \"chem_comp.formula\",\n",
    "        \"rcsb_chem_comp_descriptor.SMILES\",\n",
    "        # Not sure if these might also come in handy: \n",
    "        \"rcsb_chem_comp_info.atom_count\", \n",
    "        \"rcsb_chem_comp_info.bond_count\", \n",
    "        \"pdbx_chem_comp_identifier\",\n",
    "        \"rcsb_chem_comp_related\",\n",
    "        \"drugbank.drugbank_info.drugbank_id\",\n",
    "        \"drugbank.durgbank_target.name\",\n",
    "        \"drugbank.durgbank_target.interaction_type\",\n",
    "    ]\n",
    ")\n",
    "ligand_data = query.exec()\n",
    "print(len(ligand_data[\"data\"][\"chem_comps\"]), \"ligands\")"
   ]
  },
  {
   "cell_type": "markdown",
   "id": "406cbc79-bebd-4a70-abd4-f0cba722258f",
   "metadata": {},
   "source": [
    " "
   ]
  },
  {
   "cell_type": "markdown",
   "id": "2c1180c7-3d65-423e-9702-d8568b56f83c",
   "metadata": {},
   "source": [
    "### 1B. Use Huggingface dataset `pdb_protein_ligand_complexes`"
   ]
  },
  {
   "cell_type": "markdown",
   "id": "a9911aac-fc9c-4138-a9d7-70e377605780",
   "metadata": {},
   "source": [
    "Download from here https://huggingface.co/datasets/jglaser/pdb_protein_ligand_complexes  \n",
    "and put in `data/` directory.  \n",
    "I also renamed them to: `pdb_protein_ligand_train.p` and `pdb_protein_ligand_test.p`"
   ]
  },
  {
   "cell_type": "code",
   "execution_count": 152,
   "id": "5b2c3005-1347-411c-a17d-a9ab2d435bf8",
   "metadata": {},
   "outputs": [],
   "source": [
    "import pandas as pd"
   ]
  },
  {
   "cell_type": "code",
   "execution_count": 159,
   "id": "bd4f11d9-36b9-448d-bac0-c46b313482a1",
   "metadata": {},
   "outputs": [],
   "source": [
    "protein_ligand_train = pd.read_pickle(\"data/pdb_protein_ligand_train.p\")\n",
    "protein_ligand_test = pd.read_pickle(\"data/pdb_protein_ligand_test.p\")"
   ]
  },
  {
   "cell_type": "code",
   "execution_count": 160,
   "id": "dd0b385d-793b-44b1-ace5-d8675a6d229a",
   "metadata": {},
   "outputs": [
    {
     "data": {
      "text/plain": [
       "(34277, 8)"
      ]
     },
     "execution_count": 160,
     "metadata": {},
     "output_type": "execute_result"
    }
   ],
   "source": [
    "protein_ligand_train.shape"
   ]
  },
  {
   "cell_type": "code",
   "execution_count": 157,
   "id": "eea48470-d587-499a-8cd6-6879ac810cd1",
   "metadata": {},
   "outputs": [
    {
     "data": {
      "text/html": [
       "<div>\n",
       "<style scoped>\n",
       "    .dataframe tbody tr th:only-of-type {\n",
       "        vertical-align: middle;\n",
       "    }\n",
       "\n",
       "    .dataframe tbody tr th {\n",
       "        vertical-align: top;\n",
       "    }\n",
       "\n",
       "    .dataframe thead th {\n",
       "        text-align: right;\n",
       "    }\n",
       "</style>\n",
       "<table border=\"1\" class=\"dataframe\">\n",
       "  <thead>\n",
       "    <tr style=\"text-align: right;\">\n",
       "      <th></th>\n",
       "      <th>pdb_id</th>\n",
       "      <th>lig_id</th>\n",
       "      <th>seq</th>\n",
       "      <th>smiles</th>\n",
       "    </tr>\n",
       "  </thead>\n",
       "  <tbody>\n",
       "    <tr>\n",
       "      <th>0</th>\n",
       "      <td>7k38</td>\n",
       "      <td>VTY</td>\n",
       "      <td>MGIVEEAHNVKVLGTGSRFIVLAHGFGTDQSVWKHLVPHLLEEFRV...</td>\n",
       "      <td>CC1=C[C@@H](O)OC1=O</td>\n",
       "    </tr>\n",
       "    <tr>\n",
       "      <th>1</th>\n",
       "      <td>6prt</td>\n",
       "      <td>OWA</td>\n",
       "      <td>SNPPPPETSNPNKPKRQTNQLQYLLRVVLKTLWKHQFAWPFQQPVD...</td>\n",
       "      <td>COC(=O)C[C@H]1CC(=O)N(C)C1</td>\n",
       "    </tr>\n",
       "    <tr>\n",
       "      <th>2</th>\n",
       "      <td>4lxx</td>\n",
       "      <td>FNF</td>\n",
       "      <td>GHMIKICIAGKNNIAVNSLQFILKNYFEADQIVVIPNKNDKGIDSW...</td>\n",
       "      <td>Cc1cn([C@H]2C[C@H](O)[C@@H](COP(=O)(O)OP(=O)(O...</td>\n",
       "    </tr>\n",
       "    <tr>\n",
       "      <th>3</th>\n",
       "      <td>4lxx</td>\n",
       "      <td>FON</td>\n",
       "      <td>GHMIKICIAGKNNIAVNSLQFILKNYFEADQIVVIPNKNDKGIDSW...</td>\n",
       "      <td>Nc1nc(=O)c2c([nH]1)NC[C@@H](CNc1ccc(C(=O)N[C@@...</td>\n",
       "    </tr>\n",
       "    <tr>\n",
       "      <th>4</th>\n",
       "      <td>7bp1</td>\n",
       "      <td>CAQ</td>\n",
       "      <td>MLGKVALEEAFALPRHKERTRWWAGLFAIDPDKHAAEINDITEQRI...</td>\n",
       "      <td>Oc1ccccc1O</td>\n",
       "    </tr>\n",
       "    <tr>\n",
       "      <th>5</th>\n",
       "      <td>4ibj</td>\n",
       "      <td>1D9</td>\n",
       "      <td>PDISAKDLRNIMYDHLPGFGTAFHQLVQVICKLGKDSNSLDIIHAE...</td>\n",
       "      <td>O=C(O)c1cccc(N2C(=O)C(O)=C(C(=O)c3cccc(C(F)(F)...</td>\n",
       "    </tr>\n",
       "    <tr>\n",
       "      <th>6</th>\n",
       "      <td>1psa</td>\n",
       "      <td>0ZL</td>\n",
       "      <td>IGDEPLENYLDTEYFGTIGIGTPAQDFTVIFDTGSSNLWVPSVYCS...</td>\n",
       "      <td>CCOC(=O)N[C@@H](CC(C)C)C(=O)N[C@@H](CC(C)C)C(=...</td>\n",
       "    </tr>\n",
       "    <tr>\n",
       "      <th>7</th>\n",
       "      <td>5ag7</td>\n",
       "      <td>XXL</td>\n",
       "      <td>AHAFWSTQPVPQTEDETEKIVFAGPMDEPKTVADIPEEPYPIASTF...</td>\n",
       "      <td>CCOC(=O)CN1C(=O)COc2ccccc21</td>\n",
       "    </tr>\n",
       "    <tr>\n",
       "      <th>8</th>\n",
       "      <td>1kdr</td>\n",
       "      <td>CAR</td>\n",
       "      <td>AIAPVITIDGPSGAGKGTLCKAMAEALQWHLLDSGAIYRVLALAAL...</td>\n",
       "      <td>Nc1ccn([C@@H]2O[C@H](COP(=O)(O)O)[C@@H](O)[C@@...</td>\n",
       "    </tr>\n",
       "    <tr>\n",
       "      <th>9</th>\n",
       "      <td>1v0c</td>\n",
       "      <td>KNC</td>\n",
       "      <td>DSVTLRLMTEHDLAMLYEWLNRSHIVEWWGARPTLADVQEQYLPSV...</td>\n",
       "      <td>N[C@H]1[C@H](O)[C@@H](CO)O[C@H](O[C@@H]2[C@@H]...</td>\n",
       "    </tr>\n",
       "  </tbody>\n",
       "</table>\n",
       "</div>"
      ],
      "text/plain": [
       "  pdb_id lig_id                                                seq  \\\n",
       "0   7k38    VTY  MGIVEEAHNVKVLGTGSRFIVLAHGFGTDQSVWKHLVPHLLEEFRV...   \n",
       "1   6prt    OWA  SNPPPPETSNPNKPKRQTNQLQYLLRVVLKTLWKHQFAWPFQQPVD...   \n",
       "2   4lxx    FNF  GHMIKICIAGKNNIAVNSLQFILKNYFEADQIVVIPNKNDKGIDSW...   \n",
       "3   4lxx    FON  GHMIKICIAGKNNIAVNSLQFILKNYFEADQIVVIPNKNDKGIDSW...   \n",
       "4   7bp1    CAQ  MLGKVALEEAFALPRHKERTRWWAGLFAIDPDKHAAEINDITEQRI...   \n",
       "5   4ibj    1D9  PDISAKDLRNIMYDHLPGFGTAFHQLVQVICKLGKDSNSLDIIHAE...   \n",
       "6   1psa    0ZL  IGDEPLENYLDTEYFGTIGIGTPAQDFTVIFDTGSSNLWVPSVYCS...   \n",
       "7   5ag7    XXL  AHAFWSTQPVPQTEDETEKIVFAGPMDEPKTVADIPEEPYPIASTF...   \n",
       "8   1kdr    CAR  AIAPVITIDGPSGAGKGTLCKAMAEALQWHLLDSGAIYRVLALAAL...   \n",
       "9   1v0c    KNC  DSVTLRLMTEHDLAMLYEWLNRSHIVEWWGARPTLADVQEQYLPSV...   \n",
       "\n",
       "                                              smiles  \n",
       "0                                CC1=C[C@@H](O)OC1=O  \n",
       "1                         COC(=O)C[C@H]1CC(=O)N(C)C1  \n",
       "2  Cc1cn([C@H]2C[C@H](O)[C@@H](COP(=O)(O)OP(=O)(O...  \n",
       "3  Nc1nc(=O)c2c([nH]1)NC[C@@H](CNc1ccc(C(=O)N[C@@...  \n",
       "4                                         Oc1ccccc1O  \n",
       "5  O=C(O)c1cccc(N2C(=O)C(O)=C(C(=O)c3cccc(C(F)(F)...  \n",
       "6  CCOC(=O)N[C@@H](CC(C)C)C(=O)N[C@@H](CC(C)C)C(=...  \n",
       "7                        CCOC(=O)CN1C(=O)COc2ccccc21  \n",
       "8  Nc1ccn([C@@H]2O[C@H](COP(=O)(O)O)[C@@H](O)[C@@...  \n",
       "9  N[C@H]1[C@H](O)[C@@H](CO)O[C@H](O[C@@H]2[C@@H]...  "
      ]
     },
     "execution_count": 157,
     "metadata": {},
     "output_type": "execute_result"
    }
   ],
   "source": [
    "# protein_ligand_test.iloc[:10]\n",
    "protein_ligand_test[[\"pdb_id\", \"lig_id\", \"seq\", \"smiles\"]].iloc[:10]"
   ]
  },
  {
   "cell_type": "code",
   "execution_count": null,
   "id": "015e0c94-2cd5-4f9a-a801-b8d1ea5638ea",
   "metadata": {},
   "outputs": [],
   "source": []
  }
 ],
 "metadata": {
  "kernelspec": {
   "display_name": "Python 3 (ipykernel)",
   "language": "python",
   "name": "python3"
  },
  "language_info": {
   "codemirror_mode": {
    "name": "ipython",
    "version": 3
   },
   "file_extension": ".py",
   "mimetype": "text/x-python",
   "name": "python",
   "nbconvert_exporter": "python",
   "pygments_lexer": "ipython3",
   "version": "3.10.16"
  }
 },
 "nbformat": 4,
 "nbformat_minor": 5
}
